{
 "cells": [
  {
   "cell_type": "markdown",
   "metadata": {},
   "source": [
    "# DAT210x - Programming with Python for DS"
   ]
  },
  {
   "cell_type": "markdown",
   "metadata": {},
   "source": [
    "## Module6- Lab3"
   ]
  },
  {
   "cell_type": "markdown",
   "metadata": {},
   "source": [
    "This code is intentionally missing! Read the directions on the course lab page!"
   ]
  },
  {
   "cell_type": "code",
   "execution_count": 47,
   "metadata": {},
   "outputs": [],
   "source": [
    "import pandas as pd\n",
    "import numpy as np"
   ]
  },
  {
   "cell_type": "code",
   "execution_count": 48,
   "metadata": {},
   "outputs": [],
   "source": [
    "# Lq3\n",
    "def svc_hyperparam_test(X_train, y_train, X_test, y_test):    \n",
    "\n",
    "    high_score = -1\n",
    "\n",
    "    best_C = -1\n",
    "\n",
    "    best_gamma = -1\n",
    "\n",
    "    \n",
    "    for i in np.arange(0.05, 2.0, 0.05, dtype=float):\n",
    "\n",
    "        for x in np.arange(0.001, 0.1, 0.001, dtype=float):\n",
    "\n",
    "            svc = SVC(C=i, gamma=x)\n",
    "            svc.fit(X_train, y_train)\n",
    "\n",
    "\n",
    "            if svc.score(X_test, y_test) >= high_score:\n",
    "\n",
    "                high_score = svc.score(X_test, y_test)\n",
    "\n",
    "                best_C = i\n",
    "\n",
    "                best_gamma = x\n",
    "\n",
    "    return high_score, best_C, best_gamma"
   ]
  },
  {
   "cell_type": "code",
   "execution_count": 49,
   "metadata": {},
   "outputs": [],
   "source": [
    "X = pd.read_csv('Datasets/parkinsons.data')\n",
    "X = X.drop(labels='name', axis=1)\n",
    "y = X.loc[:, ['status']]\n",
    "X.drop(labels='status', axis=1, inplace=True)"
   ]
  },
  {
   "cell_type": "code",
   "execution_count": 50,
   "metadata": {},
   "outputs": [],
   "source": [
    "from sklearn.model_selection import train_test_split\n",
    "\n",
    "X_train, X_test, y_train, y_test = train_test_split(X, y, test_size=0.3, random_state=7)"
   ]
  },
  {
   "cell_type": "code",
   "execution_count": 51,
   "metadata": {},
   "outputs": [],
   "source": [
    "from sklearn.preprocessing import Normalizer, MaxAbsScaler, MinMaxScaler, KernelCenterer, StandardScaler\n",
    "\n",
    "\n",
    "\n",
    "processor = StandardScaler()\n",
    "\n",
    "processor.fit(X_train)\n",
    "\n",
    "\n",
    "\n",
    "X_train = processor.transform(X_train)\n",
    "\n",
    "X_test = processor.transform(X_test)"
   ]
  },
  {
   "cell_type": "code",
   "execution_count": 52,
   "metadata": {},
   "outputs": [],
   "source": [
    "from sklearn.manifold import Isomap\n",
    "\n",
    "\n",
    "\n",
    "iso = Isomap(n_neighbors=5, n_components=6)\n",
    "\n",
    "\n",
    "\n",
    "iso.fit(X_train)\n",
    "\n",
    "X_train = iso.transform(X_train)\n",
    "\n",
    "X_test = iso.transform(X_test)"
   ]
  },
  {
   "cell_type": "code",
   "execution_count": 53,
   "metadata": {},
   "outputs": [
    {
     "name": "stderr",
     "output_type": "stream",
     "text": [
      "C:\\Users\\mgavrilova\\AppData\\Local\\Continuum\\anaconda3\\lib\\site-packages\\sklearn\\utils\\validation.py:578: DataConversionWarning: A column-vector y was passed when a 1d array was expected. Please change the shape of y to (n_samples, ), for example using ravel().\n",
      "  y = column_or_1d(y, warn=True)\n"
     ]
    }
   ],
   "source": [
    "from sklearn.svm import SVC\n",
    "\n",
    "\n",
    "\n",
    "default_svc = SVC()\n",
    "\n",
    "default_svc.fit(X_train, y_train)\n",
    "\n",
    "score = default_svc.score(X_test, y_test)"
   ]
  },
  {
   "cell_type": "code",
   "execution_count": 54,
   "metadata": {},
   "outputs": [
    {
     "name": "stderr",
     "output_type": "stream",
     "text": [
      "C:\\Users\\mgavrilova\\AppData\\Local\\Continuum\\anaconda3\\lib\\site-packages\\sklearn\\utils\\validation.py:578: DataConversionWarning: A column-vector y was passed when a 1d array was expected. Please change the shape of y to (n_samples, ), for example using ravel().\n",
      "  y = column_or_1d(y, warn=True)\n"
     ]
    }
   ],
   "source": [
    "# Lq3\n",
    "high_score, best_C, best_gamma = svc_hyperparam_test(X_train, y_train, X_test, y_test)\n",
    "svc = SVC(C=best_C, gamma=best_gamma)"
   ]
  },
  {
   "cell_type": "code",
   "execution_count": null,
   "metadata": {},
   "outputs": [
    {
     "name": "stderr",
     "output_type": "stream",
     "text": [
      "C:\\Users\\mgavrilova\\AppData\\Local\\Continuum\\anaconda3\\lib\\site-packages\\sklearn\\utils\\validation.py:578: DataConversionWarning: A column-vector y was passed when a 1d array was expected. Please change the shape of y to (n_samples, ), for example using ravel().\n",
      "  y = column_or_1d(y, warn=True)\n"
     ]
    }
   ],
   "source": [
    "best_score = 0\n",
    "for i in np.arange(start = 0.05, stop = 2.05, step = 0.05):\n",
    "    for j in np.arange(start = 0.001, stop = 0.101, step = 0.001):\n",
    "        model = SVC(C = i, gamma = j)\n",
    "        model.fit(X_train, y_train)\n",
    "        score = model.score(X_test, y_test)\n",
    "        if score > best_score:\n",
    "            best_score = score\n",
    "            best_C = model.C\n",
    "            best_gamma = model.gamma\n",
    "            best_n_neighbors = iso.n_neighbors\n",
    "            best_n_components = iso.n_components\n",
    "print(\"C value:\", best_C)\n",
    "print(\"gamma value:\", best_gamma)\n",
    "print(\"isomap n_neighbors:\", best_n_neighbors)\n",
    "print(\"isomap n_components:\", best_n_components)"
   ]
  },
  {
   "cell_type": "code",
   "execution_count": 44,
   "metadata": {},
   "outputs": [
    {
     "name": "stdout",
     "output_type": "stream",
     "text": [
      "0.9491525423728814\n"
     ]
    }
   ],
   "source": [
    "print(score)"
   ]
  },
  {
   "cell_type": "code",
   "execution_count": null,
   "metadata": {},
   "outputs": [],
   "source": []
  }
 ],
 "metadata": {
  "anaconda-cloud": {},
  "kernelspec": {
   "display_name": "Python 3",
   "language": "python",
   "name": "python3"
  },
  "language_info": {
   "codemirror_mode": {
    "name": "ipython",
    "version": 3
   },
   "file_extension": ".py",
   "mimetype": "text/x-python",
   "name": "python",
   "nbconvert_exporter": "python",
   "pygments_lexer": "ipython3",
   "version": "3.6.5"
  },
  "toc": {
   "colors": {
    "hover_highlight": "#DAA520",
    "running_highlight": "#FF0000",
    "selected_highlight": "#FFD700"
   },
   "moveMenuLeft": true,
   "nav_menu": {
    "height": "58px",
    "width": "252px"
   },
   "navigate_menu": true,
   "number_sections": true,
   "sideBar": true,
   "threshold": 4,
   "toc_cell": false,
   "toc_section_display": "block",
   "toc_window_display": false,
   "widenNotebook": false
  }
 },
 "nbformat": 4,
 "nbformat_minor": 2
}
