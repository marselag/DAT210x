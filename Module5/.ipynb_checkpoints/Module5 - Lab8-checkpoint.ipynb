{
 "cells": [
  {
   "cell_type": "markdown",
   "metadata": {},
   "source": [
    "# DAT210x - Programming with Python for DS"
   ]
  },
  {
   "cell_type": "markdown",
   "metadata": {},
   "source": [
    "## Module5- Lab8"
   ]
  },
  {
   "cell_type": "code",
   "execution_count": 86,
   "metadata": {},
   "outputs": [],
   "source": [
    "import pandas as pd\n",
    "import numpy as np\n",
    "import matplotlib\n",
    "import matplotlib.pyplot as plt\n",
    "\n",
    "matplotlib.style.use('ggplot') # Look Pretty"
   ]
  },
  {
   "cell_type": "markdown",
   "metadata": {},
   "source": [
    "### A Convenience Function"
   ]
  },
  {
   "cell_type": "markdown",
   "metadata": {},
   "source": [
    "This convenience method will take care of plotting your test observations, comparing them to the regression line, and displaying the R2 coefficient"
   ]
  },
  {
   "cell_type": "code",
   "execution_count": 87,
   "metadata": {},
   "outputs": [],
   "source": [
    "def drawLine(model, X_test, y_test, title):\n",
    "    fig = plt.figure()\n",
    "    ax = fig.add_subplot(111)\n",
    "    ax.scatter(X_test, y_test, c='g', marker='o')\n",
    "    ax.plot(X_test, model.predict(X_test), color='orange', linewidth=1, alpha=0.7)\n",
    "\n",
    "    print(\"Est 2014 \" + title + \" Life Expectancy: \", model.predict([[2014]])[0])\n",
    "    print(\"Est 2030 \" + title + \" Life Expectancy: \", model.predict([[2030]])[0])\n",
    "    print(\"Est 2045 \" + title + \" Life Expectancy: \", model.predict([[2045]])[0])\n",
    "\n",
    "    score = model.score(X_test, y_test)\n",
    "    title += \" R2: \" + str(score)\n",
    "    ax.set_title(title)\n",
    "\n",
    "    plt.show()"
   ]
  },
  {
   "cell_type": "markdown",
   "metadata": {
    "collapsed": true
   },
   "source": [
    "### The Assignment"
   ]
  },
  {
   "cell_type": "markdown",
   "metadata": {
    "collapsed": true
   },
   "source": [
    "Load up the data here into a variable called `X`. As usual, do a .describe and a print of your dataset and compare it to the dataset loaded in a text file or in a spread sheet application:"
   ]
  },
  {
   "cell_type": "code",
   "execution_count": 88,
   "metadata": {},
   "outputs": [
    {
     "data": {
      "text/html": [
       "<div>\n",
       "<style scoped>\n",
       "    .dataframe tbody tr th:only-of-type {\n",
       "        vertical-align: middle;\n",
       "    }\n",
       "\n",
       "    .dataframe tbody tr th {\n",
       "        vertical-align: top;\n",
       "    }\n",
       "\n",
       "    .dataframe thead th {\n",
       "        text-align: right;\n",
       "    }\n",
       "</style>\n",
       "<table border=\"1\" class=\"dataframe\">\n",
       "  <thead>\n",
       "    <tr style=\"text-align: right;\">\n",
       "      <th></th>\n",
       "      <th>Year</th>\n",
       "      <th>WhiteMale</th>\n",
       "      <th>WhiteFemale</th>\n",
       "      <th>BlackMale</th>\n",
       "      <th>BlackFemale</th>\n",
       "    </tr>\n",
       "  </thead>\n",
       "  <tbody>\n",
       "    <tr>\n",
       "      <th>0</th>\n",
       "      <td>1900</td>\n",
       "      <td>46.6</td>\n",
       "      <td>48.7</td>\n",
       "      <td>32.5</td>\n",
       "      <td>33.5</td>\n",
       "    </tr>\n",
       "    <tr>\n",
       "      <th>1</th>\n",
       "      <td>1950</td>\n",
       "      <td>66.5</td>\n",
       "      <td>72.2</td>\n",
       "      <td>59.1</td>\n",
       "      <td>62.9</td>\n",
       "    </tr>\n",
       "    <tr>\n",
       "      <th>2</th>\n",
       "      <td>1960</td>\n",
       "      <td>67.4</td>\n",
       "      <td>74.1</td>\n",
       "      <td>61.1</td>\n",
       "      <td>66.3</td>\n",
       "    </tr>\n",
       "    <tr>\n",
       "      <th>3</th>\n",
       "      <td>1970</td>\n",
       "      <td>68.0</td>\n",
       "      <td>75.6</td>\n",
       "      <td>60.0</td>\n",
       "      <td>68.3</td>\n",
       "    </tr>\n",
       "    <tr>\n",
       "      <th>4</th>\n",
       "      <td>1975</td>\n",
       "      <td>69.5</td>\n",
       "      <td>77.3</td>\n",
       "      <td>62.4</td>\n",
       "      <td>71.3</td>\n",
       "    </tr>\n",
       "    <tr>\n",
       "      <th>5</th>\n",
       "      <td>1980</td>\n",
       "      <td>70.7</td>\n",
       "      <td>78.1</td>\n",
       "      <td>63.8</td>\n",
       "      <td>72.5</td>\n",
       "    </tr>\n",
       "    <tr>\n",
       "      <th>6</th>\n",
       "      <td>1981</td>\n",
       "      <td>71.1</td>\n",
       "      <td>78.4</td>\n",
       "      <td>64.5</td>\n",
       "      <td>73.2</td>\n",
       "    </tr>\n",
       "    <tr>\n",
       "      <th>7</th>\n",
       "      <td>1982</td>\n",
       "      <td>71.5</td>\n",
       "      <td>78.7</td>\n",
       "      <td>65.1</td>\n",
       "      <td>73.6</td>\n",
       "    </tr>\n",
       "    <tr>\n",
       "      <th>8</th>\n",
       "      <td>1983</td>\n",
       "      <td>71.6</td>\n",
       "      <td>78.7</td>\n",
       "      <td>65.2</td>\n",
       "      <td>73.5</td>\n",
       "    </tr>\n",
       "    <tr>\n",
       "      <th>9</th>\n",
       "      <td>1984</td>\n",
       "      <td>71.8</td>\n",
       "      <td>78.7</td>\n",
       "      <td>65.3</td>\n",
       "      <td>73.6</td>\n",
       "    </tr>\n",
       "    <tr>\n",
       "      <th>10</th>\n",
       "      <td>1985</td>\n",
       "      <td>71.8</td>\n",
       "      <td>78.7</td>\n",
       "      <td>65.0</td>\n",
       "      <td>73.4</td>\n",
       "    </tr>\n",
       "    <tr>\n",
       "      <th>11</th>\n",
       "      <td>1986</td>\n",
       "      <td>71.9</td>\n",
       "      <td>78.8</td>\n",
       "      <td>64.8</td>\n",
       "      <td>73.4</td>\n",
       "    </tr>\n",
       "    <tr>\n",
       "      <th>12</th>\n",
       "      <td>1987</td>\n",
       "      <td>72.1</td>\n",
       "      <td>78.9</td>\n",
       "      <td>64.7</td>\n",
       "      <td>73.4</td>\n",
       "    </tr>\n",
       "    <tr>\n",
       "      <th>13</th>\n",
       "      <td>1988</td>\n",
       "      <td>72.2</td>\n",
       "      <td>78.9</td>\n",
       "      <td>64.4</td>\n",
       "      <td>73.2</td>\n",
       "    </tr>\n",
       "    <tr>\n",
       "      <th>14</th>\n",
       "      <td>1989</td>\n",
       "      <td>72.5</td>\n",
       "      <td>79.2</td>\n",
       "      <td>64.3</td>\n",
       "      <td>73.3</td>\n",
       "    </tr>\n",
       "    <tr>\n",
       "      <th>15</th>\n",
       "      <td>1990</td>\n",
       "      <td>72.7</td>\n",
       "      <td>79.4</td>\n",
       "      <td>64.5</td>\n",
       "      <td>73.6</td>\n",
       "    </tr>\n",
       "    <tr>\n",
       "      <th>16</th>\n",
       "      <td>1991</td>\n",
       "      <td>72.9</td>\n",
       "      <td>79.6</td>\n",
       "      <td>64.6</td>\n",
       "      <td>73.8</td>\n",
       "    </tr>\n",
       "    <tr>\n",
       "      <th>17</th>\n",
       "      <td>1992</td>\n",
       "      <td>73.2</td>\n",
       "      <td>79.8</td>\n",
       "      <td>65.0</td>\n",
       "      <td>73.9</td>\n",
       "    </tr>\n",
       "    <tr>\n",
       "      <th>18</th>\n",
       "      <td>1993</td>\n",
       "      <td>73.1</td>\n",
       "      <td>79.5</td>\n",
       "      <td>64.6</td>\n",
       "      <td>73.7</td>\n",
       "    </tr>\n",
       "    <tr>\n",
       "      <th>19</th>\n",
       "      <td>1994</td>\n",
       "      <td>73.3</td>\n",
       "      <td>79.6</td>\n",
       "      <td>64.9</td>\n",
       "      <td>73.9</td>\n",
       "    </tr>\n",
       "    <tr>\n",
       "      <th>20</th>\n",
       "      <td>1995</td>\n",
       "      <td>73.4</td>\n",
       "      <td>79.6</td>\n",
       "      <td>65.2</td>\n",
       "      <td>73.9</td>\n",
       "    </tr>\n",
       "    <tr>\n",
       "      <th>21</th>\n",
       "      <td>1996</td>\n",
       "      <td>73.9</td>\n",
       "      <td>79.7</td>\n",
       "      <td>66.1</td>\n",
       "      <td>74.2</td>\n",
       "    </tr>\n",
       "    <tr>\n",
       "      <th>22</th>\n",
       "      <td>1997</td>\n",
       "      <td>74.3</td>\n",
       "      <td>79.9</td>\n",
       "      <td>67.2</td>\n",
       "      <td>74.7</td>\n",
       "    </tr>\n",
       "    <tr>\n",
       "      <th>23</th>\n",
       "      <td>1998</td>\n",
       "      <td>74.5</td>\n",
       "      <td>80.0</td>\n",
       "      <td>67.6</td>\n",
       "      <td>74.8</td>\n",
       "    </tr>\n",
       "    <tr>\n",
       "      <th>24</th>\n",
       "      <td>1999</td>\n",
       "      <td>74.6</td>\n",
       "      <td>79.9</td>\n",
       "      <td>67.8</td>\n",
       "      <td>74.7</td>\n",
       "    </tr>\n",
       "    <tr>\n",
       "      <th>25</th>\n",
       "      <td>2000</td>\n",
       "      <td>74.7</td>\n",
       "      <td>79.9</td>\n",
       "      <td>68.2</td>\n",
       "      <td>75.1</td>\n",
       "    </tr>\n",
       "    <tr>\n",
       "      <th>26</th>\n",
       "      <td>2001</td>\n",
       "      <td>74.9</td>\n",
       "      <td>80.0</td>\n",
       "      <td>68.5</td>\n",
       "      <td>75.3</td>\n",
       "    </tr>\n",
       "    <tr>\n",
       "      <th>27</th>\n",
       "      <td>2002</td>\n",
       "      <td>74.9</td>\n",
       "      <td>80.1</td>\n",
       "      <td>68.7</td>\n",
       "      <td>75.4</td>\n",
       "    </tr>\n",
       "    <tr>\n",
       "      <th>28</th>\n",
       "      <td>2003</td>\n",
       "      <td>75.1</td>\n",
       "      <td>80.2</td>\n",
       "      <td>68.9</td>\n",
       "      <td>75.7</td>\n",
       "    </tr>\n",
       "    <tr>\n",
       "      <th>29</th>\n",
       "      <td>2004</td>\n",
       "      <td>75.5</td>\n",
       "      <td>80.5</td>\n",
       "      <td>69.4</td>\n",
       "      <td>76.1</td>\n",
       "    </tr>\n",
       "    <tr>\n",
       "      <th>30</th>\n",
       "      <td>2005</td>\n",
       "      <td>75.5</td>\n",
       "      <td>80.5</td>\n",
       "      <td>69.5</td>\n",
       "      <td>76.2</td>\n",
       "    </tr>\n",
       "    <tr>\n",
       "      <th>31</th>\n",
       "      <td>2006</td>\n",
       "      <td>75.8</td>\n",
       "      <td>80.7</td>\n",
       "      <td>69.9</td>\n",
       "      <td>76.7</td>\n",
       "    </tr>\n",
       "    <tr>\n",
       "      <th>32</th>\n",
       "      <td>2007</td>\n",
       "      <td>76.0</td>\n",
       "      <td>80.9</td>\n",
       "      <td>70.3</td>\n",
       "      <td>77.0</td>\n",
       "    </tr>\n",
       "    <tr>\n",
       "      <th>33</th>\n",
       "      <td>2008</td>\n",
       "      <td>76.1</td>\n",
       "      <td>80.9</td>\n",
       "      <td>70.9</td>\n",
       "      <td>77.3</td>\n",
       "    </tr>\n",
       "    <tr>\n",
       "      <th>34</th>\n",
       "      <td>2009</td>\n",
       "      <td>76.4</td>\n",
       "      <td>81.2</td>\n",
       "      <td>71.4</td>\n",
       "      <td>77.7</td>\n",
       "    </tr>\n",
       "    <tr>\n",
       "      <th>35</th>\n",
       "      <td>2010</td>\n",
       "      <td>76.5</td>\n",
       "      <td>81.3</td>\n",
       "      <td>71.8</td>\n",
       "      <td>78.0</td>\n",
       "    </tr>\n",
       "    <tr>\n",
       "      <th>36</th>\n",
       "      <td>2011</td>\n",
       "      <td>76.6</td>\n",
       "      <td>81.3</td>\n",
       "      <td>72.2</td>\n",
       "      <td>78.2</td>\n",
       "    </tr>\n",
       "    <tr>\n",
       "      <th>37</th>\n",
       "      <td>2012</td>\n",
       "      <td>76.7</td>\n",
       "      <td>81.4</td>\n",
       "      <td>72.3</td>\n",
       "      <td>78.4</td>\n",
       "    </tr>\n",
       "    <tr>\n",
       "      <th>38</th>\n",
       "      <td>2013</td>\n",
       "      <td>76.7</td>\n",
       "      <td>81.4</td>\n",
       "      <td>72.3</td>\n",
       "      <td>78.4</td>\n",
       "    </tr>\n",
       "    <tr>\n",
       "      <th>39</th>\n",
       "      <td>2014</td>\n",
       "      <td>76.7</td>\n",
       "      <td>81.4</td>\n",
       "      <td>72.5</td>\n",
       "      <td>78.4</td>\n",
       "    </tr>\n",
       "  </tbody>\n",
       "</table>\n",
       "</div>"
      ],
      "text/plain": [
       "    Year  WhiteMale  WhiteFemale  BlackMale  BlackFemale\n",
       "0   1900       46.6         48.7       32.5         33.5\n",
       "1   1950       66.5         72.2       59.1         62.9\n",
       "2   1960       67.4         74.1       61.1         66.3\n",
       "3   1970       68.0         75.6       60.0         68.3\n",
       "4   1975       69.5         77.3       62.4         71.3\n",
       "5   1980       70.7         78.1       63.8         72.5\n",
       "6   1981       71.1         78.4       64.5         73.2\n",
       "7   1982       71.5         78.7       65.1         73.6\n",
       "8   1983       71.6         78.7       65.2         73.5\n",
       "9   1984       71.8         78.7       65.3         73.6\n",
       "10  1985       71.8         78.7       65.0         73.4\n",
       "11  1986       71.9         78.8       64.8         73.4\n",
       "12  1987       72.1         78.9       64.7         73.4\n",
       "13  1988       72.2         78.9       64.4         73.2\n",
       "14  1989       72.5         79.2       64.3         73.3\n",
       "15  1990       72.7         79.4       64.5         73.6\n",
       "16  1991       72.9         79.6       64.6         73.8\n",
       "17  1992       73.2         79.8       65.0         73.9\n",
       "18  1993       73.1         79.5       64.6         73.7\n",
       "19  1994       73.3         79.6       64.9         73.9\n",
       "20  1995       73.4         79.6       65.2         73.9\n",
       "21  1996       73.9         79.7       66.1         74.2\n",
       "22  1997       74.3         79.9       67.2         74.7\n",
       "23  1998       74.5         80.0       67.6         74.8\n",
       "24  1999       74.6         79.9       67.8         74.7\n",
       "25  2000       74.7         79.9       68.2         75.1\n",
       "26  2001       74.9         80.0       68.5         75.3\n",
       "27  2002       74.9         80.1       68.7         75.4\n",
       "28  2003       75.1         80.2       68.9         75.7\n",
       "29  2004       75.5         80.5       69.4         76.1\n",
       "30  2005       75.5         80.5       69.5         76.2\n",
       "31  2006       75.8         80.7       69.9         76.7\n",
       "32  2007       76.0         80.9       70.3         77.0\n",
       "33  2008       76.1         80.9       70.9         77.3\n",
       "34  2009       76.4         81.2       71.4         77.7\n",
       "35  2010       76.5         81.3       71.8         78.0\n",
       "36  2011       76.6         81.3       72.2         78.2\n",
       "37  2012       76.7         81.4       72.3         78.4\n",
       "38  2013       76.7         81.4       72.3         78.4\n",
       "39  2014       76.7         81.4       72.5         78.4"
      ]
     },
     "execution_count": 88,
     "metadata": {},
     "output_type": "execute_result"
    }
   ],
   "source": [
    "# .. your code here ..\n",
    "X = pd.read_csv('Datasets/life_expectancy.csv', sep='\\t', engine='python')\n",
    "X"
   ]
  },
  {
   "cell_type": "code",
   "execution_count": 89,
   "metadata": {},
   "outputs": [
    {
     "data": {
      "text/plain": [
       "Year             int64\n",
       "WhiteMale      float64\n",
       "WhiteFemale    float64\n",
       "BlackMale      float64\n",
       "BlackFemale    float64\n",
       "dtype: object"
      ]
     },
     "execution_count": 89,
     "metadata": {},
     "output_type": "execute_result"
    }
   ],
   "source": [
    "X.dtypes"
   ]
  },
  {
   "cell_type": "markdown",
   "metadata": {},
   "source": [
    "Create your linear regression model here and store it in a variable called `model`. Don't actually train or do anything else with it yet:"
   ]
  },
  {
   "cell_type": "code",
   "execution_count": 90,
   "metadata": {},
   "outputs": [],
   "source": [
    "# .. your code here ..\n",
    "from sklearn.linear_model import LinearRegression\n",
    "\n",
    "model = LinearRegression()"
   ]
  },
  {
   "cell_type": "markdown",
   "metadata": {},
   "source": [
    "Slice out your data manually (e.g. don't use `train_test_split`, but actually do the indexing yourself. Set `X_train` to be year values LESS than 1986, and `y_train` to be corresponding 'WhiteMale' age values. You might also want to read the note about slicing on the bottom of this document before proceeding:"
   ]
  },
  {
   "cell_type": "code",
   "execution_count": 91,
   "metadata": {},
   "outputs": [],
   "source": [
    "# .. your code here ..\n",
    "X_train = X.Year[X.Year < 1986]\n",
    "X_test = X.Year[X.Year >= 1986]\n",
    "y_train = X.WhiteMale[X.Year < 1986]\n",
    "y_test = X.WhiteMale[X.Year >= 1986]\n",
    "\n",
    "X_train = X_train.values.reshape(-1,1)\n",
    "X_test = X_test.values.reshape(-1,1)\n",
    "y_train = y_train.values.reshape(-1,1)\n",
    "y_test = y_test.values.reshape(-1,1)"
   ]
  },
  {
   "cell_type": "markdown",
   "metadata": {},
   "source": [
    "Train your model then pass it into `drawLine` with your training set and labels. You can title it 'WhiteMale'. `drawLine` will output to the console a 2014 extrapolation / approximation for what it believes the WhiteMale's life expectancy in the U.S. will be... given the pre-1986 data you trained it with. It'll also produce a 2030 and 2045 extrapolation:"
   ]
  },
  {
   "cell_type": "code",
   "execution_count": 92,
   "metadata": {},
   "outputs": [
    {
     "name": "stdout",
     "output_type": "stream",
     "text": [
      "Est 2014 WhiteMale Life Expectancy:  [80.85635426]\n",
      "Est 2030 WhiteMale Life Expectancy:  [85.39349384]\n",
      "Est 2045 WhiteMale Life Expectancy:  [89.6470622]\n"
     ]
    },
    {
     "data": {
      "image/png": "[encoded data removed]",
      "text/plain": [
       "<Figure size 432x288 with 1 Axes>"
      ]
     },
     "metadata": {},
     "output_type": "display_data"
    }
   ],
   "source": [
    "# .. your code here ..\n",
    "model.fit(X_train, y_train)\n",
    "drawLine(model, X_test, y_test, title='WhiteMale')"
   ]
  },
  {
   "cell_type": "markdown",
   "metadata": {},
   "source": [
    "Print the actual 2014 'WhiteMale' life expectancy from your loaded dataset"
   ]
  },
  {
   "cell_type": "code",
   "execution_count": 93,
   "metadata": {},
   "outputs": [
    {
     "name": "stdout",
     "output_type": "stream",
     "text": [
      "39    76.7\n",
      "Name: WhiteMale, dtype: float64\n"
     ]
    }
   ],
   "source": [
    "# .. your code here ..\n",
    "print(X.WhiteMale[X.Year == 2014])"
   ]
  },
  {
   "cell_type": "markdown",
   "metadata": {},
   "source": [
    "Repeat the process, but instead of for WhiteMale, this time select BlackFemale. Create a slice for BlackFemales, fit your model, and then call `drawLine`. Lastly, print out the actual 2014 BlackFemale life expectancy:"
   ]
  },
  {
   "cell_type": "code",
   "execution_count": 94,
   "metadata": {},
   "outputs": [
    {
     "name": "stdout",
     "output_type": "stream",
     "text": [
      "Est 2014 BlackFemale Life Expectancy:  [88.6988994]\n",
      "Est 2030 BlackFemale Life Expectancy:  [96.11438808]\n",
      "Est 2045 BlackFemale Life Expectancy:  [103.06640871]\n"
     ]
    },
    {
     "data": {
      "image/png": "[encoded data removed]",
      "text/plain": [
       "<Figure size 432x288 with 1 Axes>"
      ]
     },
     "metadata": {},
     "output_type": "display_data"
    },
    {
     "name": "stdout",
     "output_type": "stream",
     "text": [
      "39    78.4\n",
      "Name: BlackFemale, dtype: float64\n"
     ]
    }
   ],
   "source": [
    "# .. your code here .. \n",
    "X_train = X.Year[X.Year < 1986]\n",
    "X_test = X.Year[X.Year >= 1986]\n",
    "y_train = X.BlackFemale[X.Year < 1986]\n",
    "y_test = X.BlackFemale[X.Year >= 1986]\n",
    "\n",
    "X_train = X_train.values.reshape(-1, 1)\n",
    "X_test = X_test.values.reshape(-1, 1)\n",
    "y_train = y_train.values.reshape(-1, 1)\n",
    "y_test = y_test.values.reshape(-1, 1)\n",
    "\n",
    "model = LinearRegression()\n",
    "model.fit(X_train, y_train)\n",
    "drawLine(model, X_test, y_test, title='BlackFemale')\n",
    "print(X.BlackFemale[X.Year == 2014])"
   ]
  },
  {
   "cell_type": "markdown",
   "metadata": {},
   "source": [
    "Lastly, print out a correlation matrix for your entire dataset, and display a visualization of the correlation matrix, just as we described in the visualization section of the course:"
   ]
  },
  {
   "cell_type": "code",
   "execution_count": 99,
   "metadata": {},
   "outputs": [
    {
     "data": {
      "text/plain": [
       "([<matplotlib.axis.YTick at 0x2a25dd5ea20>,\n",
       "  <matplotlib.axis.YTick at 0x2a25dd5e2b0>,\n",
       "  <matplotlib.axis.YTick at 0x2a25dd77240>,\n",
       "  <matplotlib.axis.YTick at 0x2a25dcab320>,\n",
       "  <matplotlib.axis.YTick at 0x2a25dcab3c8>],\n",
       " <a list of 5 Text yticklabel objects>)"
      ]
     },
     "execution_count": 99,
     "metadata": {},
     "output_type": "execute_result"
    },
    {
     "data": {
      "image/png": "[encoded data removed]",
      "text/plain": [
       "<Figure size 432x288 with 2 Axes>"
      ]
     },
     "metadata": {},
     "output_type": "display_data"
    }
   ],
   "source": [
    "# .. your code here ..\n",
    "X.corr()\n",
    "plt.imshow(X.corr(), cmap=plt.cm.Blues, interpolation='nearest')\n",
    "plt.colorbar()\n",
    "tick_marks = [i for i in range(len(X.columns))]\n",
    "plt.xticks(tick_marks, X.columns, rotation='vertical')\n",
    "plt.yticks(tick_marks, X.columns)"
   ]
  },
  {
   "cell_type": "code",
   "execution_count": 100,
   "metadata": {},
   "outputs": [],
   "source": [
    "plt.show()"
   ]
  },
  {
   "cell_type": "markdown",
   "metadata": {},
   "source": [
    "### Notes On Fitting, Scoring, and Predicting:"
   ]
  },
  {
   "cell_type": "markdown",
   "metadata": {
    "collapsed": true
   },
   "source": [
    "Here's a hint to help you complete the assignment without pulling your hair out! When you use `.fit()`, `.score()`, and `.predict()` on your model, SciKit-Learn expects your training data to be in spreadsheet (2D Array-Like) form. This means you can't simply pass in a 1D Array (slice) and get away with it.\n",
    "\n",
    "To properly prep your data, you have to pass in a 2D Numpy Array, or a dataframe. But what happens if you really only want to pass in a single feature?\n",
    "\n",
    "If you slice your dataframe using `df[['ColumnName']]` syntax, the result that comes back is actually a _dataframe_. Go ahead and do a `type()` on it to check it out. Since it's already a dataframe, you're good -- no further changes needed.\n",
    "\n",
    "But if you slice your dataframe using the `df.ColumnName` syntax, OR if you call `df['ColumnName']`, the result that comes back is actually a series (1D Array)! This will cause SKLearn to bug out. So if you are slicing using either of those two techniques, before sending your training or testing data to `.fit` / `.score`, do `any_column = my_column.reshape(-1,1)`. \n",
    "\n",
    "This will convert your 1D array of `[n_samples]`, to a 2D array shaped like `[n_samples, 1]`. A single feature, with many samples.\n",
    "\n",
    "If you did something like `my_column = [my_column]`, that would produce an array in the shape of `[1, n_samples]`, which is incorrect because SKLearn expects your data to be arranged as `[n_samples, n_features]`. Keep in mind, all of the above only relates to your `X` or input data, and does not apply to your `y` or labels."
   ]
  }
 ],
 "metadata": {
  "anaconda-cloud": {},
  "kernelspec": {
   "display_name": "Python 3",
   "language": "python",
   "name": "python3"
  },
  "language_info": {
   "codemirror_mode": {
    "name": "ipython",
    "version": 3
   },
   "file_extension": ".py",
   "mimetype": "text/x-python",
   "name": "python",
   "nbconvert_exporter": "python",
   "pygments_lexer": "ipython3",
   "version": "3.6.5"
  },
  "toc": {
   "colors": {
    "hover_highlight": "#DAA520",
    "running_highlight": "#FF0000",
    "selected_highlight": "#FFD700"
   },
   "moveMenuLeft": true,
   "nav_menu": {
    "height": "58px",
    "width": "252px"
   },
   "navigate_menu": true,
   "number_sections": true,
   "sideBar": true,
   "threshold": 4,
   "toc_cell": false,
   "toc_section_display": "block",
   "toc_window_display": false,
   "widenNotebook": false
  }
 },
 "nbformat": 4,
 "nbformat_minor": 2
}
